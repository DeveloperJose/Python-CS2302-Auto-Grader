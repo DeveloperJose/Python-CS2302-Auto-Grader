{
  "nbformat": 4,
  "nbformat_minor": 0,
  "metadata": {
    "colab": {
      "name": "AutoGrader - Lab 5 - Hash Tables - Version 3",
      "provenance": [],
      "collapsed_sections": []
    },
    "kernelspec": {
      "name": "python3",
      "display_name": "Python 3"
    }
  },
  "cells": [
    {
      "cell_type": "markdown",
      "metadata": {
        "id": "MKsRDH5ZUdfasdv"
      },
      "source": [
        "## CS 2302 - Lab 5 - Hash Tables + Heaps\n",
        "\n",
        "\n",
        "\n"
      ]
    },
    {
      "cell_type": "markdown",
      "metadata": {
        "id": "DdmNtaN_l6gK"
      },
      "source": [
        "## **Before you start**\n",
        "\n",
        "Make a copy of this Colab by clicking on File > Save a Copy in Drive\n",
        "\n",
        "Name:  \n",
        "\n",
        "Student ID:"
      ]
    },
    {
      "cell_type": "markdown",
      "metadata": {
        "id": "6gKL1mrkyLux"
      },
      "source": [
        "### Grading\n",
        "As stated in the syllabus, your lab consists of two parts: the source code  and the report. This colab counts as your source code submission only. However, for your report submission, you  are more than welcome to extend your colab to include what is required for the report. Alternatively, you can use any other text editor to write your lab report (Google Docs, Word, etc.). I personally recommend to stick to Google Colab as you can write code to draw the required plots, which makes the whole process simpler. \n",
        "\n",
        "Each subsection in this colab is marked with point values, totaling 100 points.\n"
      ]
    },
    {
      "cell_type": "markdown",
      "metadata": {
        "id": "cBO-Xrldpe62"
      },
      "source": [
        "## Problem 1 \n",
        "\n",
        "### [50 points] Least Recently Used Cache\n",
        "\n",
        "Your job is do design and implement a data structure called [Least Recently Used (LRU)](https://en.wikipedia.org/wiki/Cache_replacement_policies#LRU) cache. This data structure supports the following operations\n",
        "\n",
        "- get(key): Gets the value of the key if the key exists in the cache, otherwise return None.\n",
        "\n",
        "- put(key, value) - Insert or replace the value if the given key is not already in the cache. When the cache reaches its maximum capacity, it should invalidate the least recently used item before inserting a new item.\n",
        "\n",
        "- size() – Returns the number of key/value pairs currently stored in the cache\n",
        "\n",
        "- max_capacity() – Returns the maximum capacity of the cache\n",
        "\n",
        "All operations MUST run in O(1) time complexity to receive credit. You are free to use Python’s set and/or dictionary data structures. If you need to use a doubly linked list (hint), you need to code it yourself.\n",
        "\n",
        "### Hints:\n",
        "* The LRU data structure deals with key, value pairs. Use a regular Python dictionary to map keys to nodes in your doubly linked list. The values would be stored in the nodes themselves.\n",
        "\n",
        "* The reason why you need a doubly linked list is so that you can move the nodes in constant time every time a key,value pair is used/created/accessed. The idea is that when an operation is performed, you use the dictionary to access the node in constant time, and using the properties of the doubly linked list, you can relocate it. The purpose of the doubly linked list is to keep track of the order in which the nodes have been accessed. \n",
        " "
      ]
    },
    {
      "cell_type": "code",
      "metadata": {
        "id": "RCJACl9m6KJw",
        "outputId": "738eed2a-bd10-4209-a7c9-30557ed49ade",
        "colab": {
          "base_uri": "https://localhost:8080/",
          "height": 193
        }
      },
      "source": [
        "class LRUCache:\n",
        "    def __init__(self, max_capacity=1000):\n",
        "        self.max_capacity = max_capacity # maximum memory capacity\n",
        "        # TODO: Feel free to add more lines here\n",
        "\n",
        "    # TODO: Implement this method - Required Time Complexity: O(1)\n",
        "    # Gets the value of the key if the key exists \n",
        "    # in the cache, otherwise return None.\n",
        "    def get(self, key):\n",
        "        raise NotImplementedError()\n",
        "        \n",
        "    # TODO: Implement this method - Required Time Complexity: O(1)\n",
        "    # Insert or replace the value if the given key is not already in the cache. \n",
        "    # When the cache reaches its maximum capacity, it should invalidate the \n",
        "    # least recently used item before inserting a new item.\n",
        "    def put(self, key, value):\n",
        "        raise NotImplementedError()\n",
        "\n",
        "    # TODO: Implement this method - Required Time Complexity: O(1)\n",
        "    # Returns the number of key/value pairs currently stored in the cache\n",
        "    def size(self):\n",
        "        raise NotImplementedError()\n",
        "    \n",
        "    # TODO: Implement this method - Required Time Complexity: O(1)\n",
        "    # Returns the maximum capacity of the cache\n",
        "    def max_capacity(self):\n",
        "        raise NotImplementedError()\n",
        "        "
      ],
      "execution_count": null,
      "outputs": [
        {
          "output_type": "stream",
          "text": [
            "0\n",
            "2\n",
            "4\n",
            "6\n",
            "8\n",
            "10\n",
            "12\n",
            "14\n",
            "16\n",
            "18\n"
          ],
          "name": "stdout"
        }
      ]
    },
    {
      "cell_type": "code",
      "metadata": {
        "id": "5463dlVKbD2k"
      },
      "source": [
        "# Use this code cell to test the implementation of your LRUCache (test cases)"
      ],
      "execution_count": null,
      "outputs": []
    },
    {
      "cell_type": "markdown",
      "metadata": {
        "id": "OaP6F0_-oth_"
      },
      "source": [
        "## Problem 2 \n",
        "\n",
        "### [50 points] Passwords\n",
        "\n",
        "In [Lab 2](https://colab.research.google.com/drive/1BINN7dw1b0nIXZuAGp6qQhBPIk-IZ9Cl#scrollTo=MKsRDH5ZUdfasdv), you used multiple sorting algorithms to find the *k* most used passwords in a given data set. In this problem, you are asked to write another solution to the problem that uses a heap to find the *k* most used passwords (in descending order). When sorting, sort the passwords by the number of times they appear in the data set. If two passwords have the same frequency, the password with lower alphabetical order should come first. Your solution must use a heap (coded by yourself) and a dictionary (the one that comes with Python). If your code takes a long time to run, only use a subset of the passwords. \n",
        "\n",
        "Make sure the name of your heap class is \"Heap\" and that the method is named \"heap_sort\" or the auto-grader will have trouble grading it automatically.\n",
        "\n",
        "#### Hints:\n",
        "* Use a dictionary to count the number of occurrences of each password. That is, the key would be a string (password), and the value would be an integer (count/frequency). \n",
        "\n",
        "* Once the dictionary is created, create a heap. Traverse the dictionary, and as you visit the key, value pairs, insert them into the heap using the frequency/count as the attribute used by the heap to order the nodes.\n",
        "\n",
        "* Once the heap is populated, perform the \"extract\" operation k times to find the k most used passwords."
      ]
    },
    {
      "cell_type": "markdown",
      "metadata": {
        "id": "9CsW6LPaYX7a"
      },
      "source": [
        "### Downloading and reading the dataset (same as lab 2)"
      ]
    },
    {
      "cell_type": "code",
      "metadata": {
        "id": "mAU5J7xWXxjD"
      },
      "source": [
        "# Lab 2 Set-Up\n",
        "# Import the files package\n",
        "from google.colab import files\n",
        "\n",
        "# Get a list of the zip files that have been uploaded into your colab\n",
        "# environment.\n",
        "zip_uploaded = !ls *.zip\n",
        "\n",
        "# If the zip file is not already in the colab enviroment, upload it\n",
        "if ('10-million-combos.zip' not in zip_uploaded):\n",
        "  uploaded = files.upload()\n",
        "\n",
        "# Unzip file\n",
        "import zipfile\n",
        "with zipfile.ZipFile('10-million-combos.zip', 'r') as zip_ref:\n",
        "    zip_ref.extractall()\n",
        "\n",
        "passwords_file = open(\"10-million-combos.txt\", \"r\", encoding=\"ISO-8859-1\")"
      ],
      "execution_count": null,
      "outputs": []
    },
    {
      "cell_type": "markdown",
      "metadata": {
        "id": "n0tIjeUmYfSg"
      },
      "source": [
        "### Creating a Python dictionary from the passwords file"
      ]
    },
    {
      "cell_type": "code",
      "metadata": {
        "id": "WuMAS1wVYe9Z"
      },
      "source": [
        "# TODO: Implement this dictionary.\n",
        "# Use a dictionary to count the number of occurrences of each password. That is, the key would be a string (password), and the value would be an integer (count/frequency)\n",
        "# See lab 2 for inspiration on how this can be done\n",
        "password_dict = {}"
      ],
      "execution_count": null,
      "outputs": []
    },
    {
      "cell_type": "markdown",
      "metadata": {
        "id": "lliHKgjsYm2Z"
      },
      "source": [
        "### Sorting the passwords and getting the top k passwords using a Heap"
      ]
    },
    {
      "cell_type": "code",
      "metadata": {
        "id": "lu9cWMVUpTUE"
      },
      "source": [
        "# TODO: Implement your own heap class\n",
        "# Your heap code goes inside this class, DON'T CHANGE THE CLASS NAME\n",
        "class Heap:\n",
        "  pass\n",
        "\n",
        "# TODO: Implement this method, DON'T CHANGE THE FUNCTION NAME\n",
        "# You can call extra functions and helpers inside this method as long as you don't change this method's name and parameters\n",
        "# Remember: Your solution must use a heap (coded by yourself) and a dictionary (the one that comes with Python)\n",
        "def heap_sort(password_dict, k):\n",
        "  \"\"\"\n",
        "  password_dict: Python dictionary containing the input passwords where the dictionary key is the password (string) and the value is the count/frequency (integer)\n",
        "  k: The integer number representing the number of most used passwords the algorithm will find\n",
        "  returns: A list of strings (just the password strings) of length k sorted in descending order using the rules specified in the problem prompt\n",
        "  \"\"\"\n",
        "  return []"
      ],
      "execution_count": null,
      "outputs": []
    },
    {
      "cell_type": "code",
      "metadata": {
        "id": "tD4QyBirchFt"
      },
      "source": [
        "# Your test cases go here"
      ],
      "execution_count": null,
      "outputs": []
    },
    {
      "cell_type": "markdown",
      "metadata": {
        "id": "ylLkk9k8sA-R"
      },
      "source": [
        "## How to Submit This Lab\n",
        "\n",
        "1. File > Download .ipynb\n",
        "2. Go to Blackboard, find the lab submission page, and upload the .ipynb file you just downloaded."
      ]
    },
    {
      "cell_type": "markdown",
      "metadata": {
        "id": "ZxS_1odod-fo"
      },
      "source": [
        "## Grading Rubric\n",
        "\n",
        "|     Criteria    \t|     Proficient    \t|     Satisfactory    \t|     Unsatisfactory    \t|\n",
        "|-\t|-\t|-\t|-\t|\n",
        "|     Correctness    \t|     The code compiles, runs, and solves the problem.                \t|     The code compiles, runs, but does not solve the problem (partial implementation).    \t|     The code does not compile/run, or little progress was made.          \t|\n",
        "|     Space and Time </br> complexities    \t|     Appropriate for the problem.    \t|     Can be greatly improved.    \t|     Space and time complexity not analyzed     \t|\n",
        "|     Problem Decomposition    \t|     Operations are broken down into loosely coupled, highly cohesive   methods    \t|     Operations are broken down into methods, but they are not loosely   coupled/highly cohesive    \t|     Most of the logic is inside a couple of big methods          \t|\n",
        "|     Style    \t|     Variables and methods have meaningful/appropriate names     \t|     Only a subset of the variables and methods have   meaningful/appropriate names     \t|     Few or none of the variables and methods have meaningful/appropriate   names     \t|\n",
        "|     Robustness    \t|     Program handles erroneous or unexpected input gracefully    \t|     Program handles some erroneous or unexpected input gracefully    \t|     Program does not handle erroneous or unexpected input gracefully    \t|\n",
        "|     Documentation    \t|     Non-obvious code segments are well documented    \t|     Some non-obvious code segments are documented    \t|     Few or none non-obvious segments are documented    \t|\n",
        "|     Report     \t|     Covers all required material in a concise and clear way with proper   grammar and spelling.    \t|     Covers a subset of the required material in a concise and clear way   with proper grammar and spelling.    \t|     Does not cover enough material and/or the material is not presented   in a concise and clear way with proper grammar and spelling.    \t|"
      ]
    }
  ]
}