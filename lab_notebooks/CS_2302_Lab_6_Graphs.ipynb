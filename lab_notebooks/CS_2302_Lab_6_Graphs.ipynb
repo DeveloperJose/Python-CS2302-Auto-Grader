{
  "nbformat": 4,
  "nbformat_minor": 0,
  "metadata": {
    "colab": {
      "name": "CS 2302 - Lab 6 - Graphs",
      "provenance": [],
      "collapsed_sections": []
    },
    "kernelspec": {
      "name": "python3",
      "display_name": "Python 3"
    }
  },
  "cells": [
    {
      "cell_type": "markdown",
      "metadata": {
        "id": "MKsRDH5ZUdfasdv"
      },
      "source": [
        "## CS 2302 - Lab 6 - Graphs\n",
        "\n",
        "\n",
        "\n"
      ]
    },
    {
      "cell_type": "markdown",
      "metadata": {
        "id": "DdmNtaN_l6gK"
      },
      "source": [
        "## **Before you start**\n",
        "\n",
        "Make a copy of this Colab by clicking on File > Save a Copy in Drive\n",
        "\n",
        "Name:  \n",
        "\n",
        "Student ID:"
      ]
    },
    {
      "cell_type": "markdown",
      "metadata": {
        "id": "6gKL1mrkyLux"
      },
      "source": [
        "### Grading\n",
        "As stated in the syllabus, your lab consists of two parts: the source code  and the report. This colab counts as your source code submission only. However, for your report submission, you  are more than welcome to extend your colab to include what is required for the report. Alternatively, you can use any other text editor to write your lab report (Google Docs, Word, etc.). I personally recommend to stick to Google Colab as you can write code to draw the required plots, which makes the whole process simpler. \n",
        "\n",
        "Each subsection in this colab is marked with point values, totaling 100 points.\n"
      ]
    },
    {
      "cell_type": "markdown",
      "metadata": {
        "id": "cBO-Xrldpe62"
      },
      "source": [
        "## Problem 1 \n",
        "\n",
        "### [30 points] Kruskal's Algorithm\n",
        "\n",
        "Implement Kruskal's algorithm. Write your own implementation of the Graph and Disjoint Set Forest data structures.\n",
        " "
      ]
    },
    {
      "cell_type": "code",
      "metadata": {
        "id": "RCJACl9m6KJw",
        "outputId": "738eed2a-bd10-4209-a7c9-30557ed49ade",
        "colab": {
          "base_uri": "https://localhost:8080/",
          "height": 193
        }
      },
      "source": [
        "# Your code goes here"
      ],
      "execution_count": null,
      "outputs": [
        {
          "output_type": "stream",
          "text": [
            "0\n",
            "2\n",
            "4\n",
            "6\n",
            "8\n",
            "10\n",
            "12\n",
            "14\n",
            "16\n",
            "18\n"
          ],
          "name": "stdout"
        }
      ]
    },
    {
      "cell_type": "markdown",
      "metadata": {
        "id": "jHa1g6UYMHz1"
      },
      "source": [
        "Test your solution by calling it multiple times with different input values and comparing the output produced by your method to the expected output. For each test, add a short comment explaining why you think that test is appropiate. Do not write an excesive amount of tests; just write the number of tests you think you need and justify your decisions. "
      ]
    },
    {
      "cell_type": "code",
      "metadata": {
        "id": "5463dlVKbD2k"
      },
      "source": [
        "# Your test cases go here\n"
      ],
      "execution_count": null,
      "outputs": []
    },
    {
      "cell_type": "markdown",
      "metadata": {
        "id": "OaP6F0_-oth_"
      },
      "source": [
        "## Problem 2 \n",
        "\n",
        "### [70 points] Fox, Chicken, Sack of Grain\n",
        "\n",
        "You have a fox, a chicken and a sack of grain. You must cross a river with only one of them at a time. If you leave the fox with the chicken he will eat it; if you leave the chicken with the grain he will eat it. How can you get all three across safely? In this problem, you are asked to implement a solution that uses a graph search algorithm.\n",
        "\n",
        "Let’s represent the state of the world with four bits ⟨b0,b1,b2,b3⟩. Bit b0 represents the location of the fox, b1 represents the location of the chicken, b2 represents the location of the grain, and b3 represents your location. We will assume you are going from the left side to the right side of the river, thus for a particular bit bi, bi == 0 means the corresponding entity (fox, chicken, grain, or person) is on the left side of the river and bi == 1 means the entity is on the right side. We can represent states by nodes in a graph G = (V, E). Thus V = {⟨0,0,0,0⟩,⟨0,0,0,1⟩,...,⟨1,1,1,0⟩,⟨1,1,1,1⟩}, or you could use the decimal representations of the bit vector and thus V = {0, 1, ..., 14, 15}. Legal transitions between legal states will be represented by undirected edges in that graph. A transition is legal if the person moves from one side of the river to the other and is accompanied by zero or one other entities. A state is not legal if the fox can eat the chicken or the chicken can eat the grain, as explained above, otherwise it is legal. Thus (⟨0, 0, 0, 0⟩, ⟨0, 1, 0, 1⟩) ∈ E, corresponding to the person crossing the river with the chicken, while (⟨0, 0, 0, 0⟩, ⟨0, 0, 1, 1⟩)  is not in E, since ⟨0, 0, 1, 1⟩ is not a legal state (the fox eats the chicken).\n",
        "\n",
        "We can now find the solution to the problem by finding a path going from state ⟨0, 0, 0, 0⟩ to state ⟨1, 1, 1, 1⟩ in the graph. Your task is to implement six different solutions to the problem the three graph representations (adjacency list, adjacency matrix and edge list) and two search algorithms (breadth-first search and depth-first search).\n"
      ]
    },
    {
      "cell_type": "code",
      "metadata": {
        "id": "lu9cWMVUpTUE"
      },
      "source": [
        "# Your code goes here"
      ],
      "execution_count": null,
      "outputs": []
    },
    {
      "cell_type": "markdown",
      "metadata": {
        "id": "5JhP4cK-MKud"
      },
      "source": [
        "Test your solutions by calling them multiple times with different input values and comparing the output produced by your methods to the expected output. For each test, add a short comment explaining why you think that test is appropiate. Do not write an excesive amount of tests; just write the number of tests you think you need and justify your decisions. "
      ]
    },
    {
      "cell_type": "code",
      "metadata": {
        "id": "tD4QyBirchFt"
      },
      "source": [
        "# Your test cases go here"
      ],
      "execution_count": null,
      "outputs": []
    },
    {
      "cell_type": "markdown",
      "metadata": {
        "id": "ylLkk9k8sA-R"
      },
      "source": [
        "## How to Submit This Lab\n",
        "\n",
        "1. File > Download .ipynb\n",
        "2. Go to Blackboard, find the lab submission page, and upload the .ipynb file you just downloaded."
      ]
    },
    {
      "cell_type": "markdown",
      "metadata": {
        "id": "ZxS_1odod-fo"
      },
      "source": [
        "## Grading Rubric\n",
        "\n",
        "|     Criteria    \t|     Proficient    \t|     Satisfactory    \t|     Unsatisfactory    \t|\n",
        "|-\t|-\t|-\t|-\t|\n",
        "|     Correctness    \t|     The code compiles, runs, and solves the problem.                \t|     The code compiles, runs, but does not solve the problem (partial implementation).    \t|     The code does not compile/run, or little progress was made.          \t|\n",
        "|     Space and Time </br> complexities    \t|     Appropriate for the problem.    \t|     Can be greatly improved.    \t|     Space and time complexity not analyzed     \t|\n",
        "|     Problem Decomposition    \t|     Operations are broken down into loosely coupled, highly cohesive   methods    \t|     Operations are broken down into methods, but they are not loosely   coupled/highly cohesive    \t|     Most of the logic is inside a couple of big methods          \t|\n",
        "|     Style    \t|     Variables and methods have meaningful/appropriate names     \t|     Only a subset of the variables and methods have   meaningful/appropriate names     \t|     Few or none of the variables and methods have meaningful/appropriate   names     \t|\n",
        "|     Robustness    \t|     Program handles erroneous or unexpected input gracefully    \t|     Program handles some erroneous or unexpected input gracefully    \t|     Program does not handle erroneous or unexpected input gracefully    \t|\n",
        "|     Documentation    \t|     Non-obvious code segments are well documented    \t|     Some non-obvious code segments are documented    \t|     Few or none non-obvious segments are documented    \t|\n",
        "|     Report     \t|     Covers all required material in a concise and clear way with proper   grammar and spelling.    \t|     Covers a subset of the required material in a concise and clear way   with proper grammar and spelling.    \t|     Does not cover enough material and/or the material is not presented   in a concise and clear way with proper grammar and spelling.    \t|"
      ]
    }
  ]
}