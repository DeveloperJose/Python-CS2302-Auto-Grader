{
  "nbformat": 4,
  "nbformat_minor": 0,
  "metadata": {
    "colab": {
      "name": "CS 2302 - Lab 3 - Lists",
      "provenance": [],
      "collapsed_sections": []
    },
    "kernelspec": {
      "name": "python3",
      "display_name": "Python 3"
    }
  },
  "cells": [
    {
      "cell_type": "markdown",
      "metadata": {
        "id": "MKsRDH5ZUdfasdv"
      },
      "source": [
        "# CS 2302 - Lab 3 - Lists\n",
        "\n",
        "\n",
        "\n"
      ]
    },
    {
      "cell_type": "markdown",
      "metadata": {
        "id": "Ixcfo0AS7JEs"
      },
      "source": [
        "## **Before you start**\n",
        "\n",
        "Make a copy of this Colab by clicking on File > Save a Copy in Drive\n",
        "\n",
        "Name:  \n",
        "\n",
        "Student ID:"
      ]
    },
    {
      "cell_type": "markdown",
      "metadata": {
        "id": "overview"
      },
      "source": [
        "## Overview\n",
        "\n",
        "In this lab, you will solve 3 list problems. The first problem asks you to implement your own version of an *Array List*. The last two problems are similar to the ones tech companies use during coding interviews.\n",
        "\n",
        "\n"
      ]
    },
    {
      "cell_type": "markdown",
      "metadata": {
        "id": "6gKL1mrkyLux"
      },
      "source": [
        "### Grading\n",
        "As stated in the syllabus, your lab consists of two parts: the source code  and the report. This colab counts as your source code submission only. However, for your report submission, you  are more than welcome to extend your colab to include what is required for the report. Alternatively, you can use any other text editor to write your lab report (Google Docs, Word, etc.). I personally recommend to stick to Google Colab as you can write code to draw the required plots, which makes the whole process simpler. \n",
        "\n",
        "Each subsection in this colab is marked with point values, totaling 100 points.\n"
      ]
    },
    {
      "cell_type": "markdown",
      "metadata": {
        "id": "cBO-Xrldpe62"
      },
      "source": [
        "## Problem 1 \n",
        "\n",
        "### [40 points] Array List \n",
        "\n",
        "Arrays are awesome. In contrast to regular linked lists, any stored element can be accessed in constant time. The disadvantage of using arrays is that they have a fixed size. This is a big limitation when you do not know how large a given array should be beforehand. \n",
        "\n",
        "This problem can be mitigated by using abstraction and basic object-oriented programming. You can create a class (let's call it ArayList cough cough) that provides basic operations to manipulate data, such as adding, removing, reading, etc. This class can use a private array (which is not directly exposed to the user) to store data while at the same time creating the illusion that the size of this data structure is not fixed, but dynamic! \n",
        "\n",
        "To accomplish this, the class can internally mantain a *large* array, big enough to contain *many* values. As the user inserts data into this data structure, the unused spaces in this *large* become occupied. If the array ever becomes full, another (larger) array can be created, and the values from the *small* array can be copied over to the new one. All of this logic can be hidden from the user of your class. This process allows *append* operations (where you insert an element at the end) to take O(1) time, except for those few instances where you need to create a new array and copy over all of the data, which would take O(n). \n",
        "\n",
        "Since the array is larger than the number of stored elements, you need to somehow *remember* what spaces in the array are unoccupied/available. This can be done by using an integer variable that stores the index of the *first unused space* in the array. For example, if no values have been added to the data structure, this variable can hold the value 0, meaning that the space at position 0 is unocuppied, and should be used when a new item is appended. If, for example, 5 elements are added to the data structure, this variable should store the value 5, indicating that all of the elements from index 0 to index 4 are occupied, and that the next available space is located at index 5. This makes insertions at the end very efficient. Similar logic can be used to make insertions at the beginning very efficient as well (think cirularly). \n",
        "\n",
        "In this first problem, your task is to complete the implementation of the ArrayList class below. There is a caveat though. Python does not support regular arrays; instead, they support *lists*. In fact, their *list* data structure is actually implemented using logic that is very similar to the one you are being asked to implement in this lab. To mitigate this limitation, you are provided with an *Array* class, which you are required to use to implement *ArrayList*.  An example of how to use this class is provided below.\n",
        "\n",
        "Notice that each method has very concrete time compelxity requirements. To receive full credit, your implementation has to satisfy such requirements.\n",
        "\n",
        "\n"
      ]
    },
    {
      "cell_type": "code",
      "metadata": {
        "id": "RCJACl9m6KJw",
        "outputId": "df67880f-85e6-49ba-faa2-60c8aab07652",
        "colab": {
          "base_uri": "https://localhost:8080/",
          "height": 194
        }
      },
      "source": [
        "class Array:\n",
        "  def __init__(self, size):\n",
        "    self.data = [None] * size\n",
        "\n",
        "  def __getitem__(self, idx):\n",
        "    \"\"\"Implements 'value = self[idx]'\"\"\"\n",
        "    assert(isinstance(idx, int))\n",
        "        \n",
        "    if idx < 0 or idx >= len(self.data):\n",
        "      raise IndexError\n",
        "    \n",
        "    return self.data[idx] \n",
        "\n",
        "  def __setitem__(self, idx, value):\n",
        "    \"\"\"Implements 'self[idx] = value'\"\"\"\n",
        "    assert(isinstance(idx, int))\n",
        "    \n",
        "    if idx < 0 or idx >= len(self.data):\n",
        "        raise IndexError\n",
        "\n",
        "    self.data[idx] = value\n",
        "\n",
        "  def __len__(self):\n",
        "    \"\"\"Implements 'len(self)'\"\"\"\n",
        "    return len(self.data)\n",
        "\n",
        "\n",
        "# Example - Array class usage\n",
        "size = 10\n",
        "\n",
        "nums = Array(size)\n",
        "\n",
        "for i in range(len(nums)):\n",
        "  nums[i] = 2 * i\n",
        "\n",
        "for i in range(len(nums)):\n",
        "  print(nums[i])\n",
        "\n"
      ],
      "execution_count": null,
      "outputs": [
        {
          "output_type": "stream",
          "text": [
            "0\n",
            "2\n",
            "4\n",
            "6\n",
            "8\n",
            "10\n",
            "12\n",
            "14\n",
            "16\n",
            "18\n"
          ],
          "name": "stdout"
        }
      ]
    },
    {
      "cell_type": "code",
      "metadata": {
        "id": "RX0P5roC6Mup"
      },
      "source": [
        "class ArrayList:\n",
        "    def __init__(self, size=1000):\n",
        "        self.max_size = size # maximum memory capacity\n",
        "        self.data = Array(self.max_size) # create initial array\n",
        "        self.curr_size = 0 # current actual size \n",
        "        # TODO: Feel free to add more lines here\n",
        "\n",
        "    # TODO: Implement this method - Required Time Complexity: O(1)\n",
        "    def __getitem__(self, idx):\n",
        "        \"\"\"Implements 'value = self[idx]'\n",
        "        Raises IndexError if idx is invalid.\"\"\"\n",
        "        raise NotImplementedError()\n",
        "        \n",
        "    # TODO: Implement this method - Required Time Complexity: O(1)\n",
        "    def __setitem__(self, idx, value):\n",
        "        \"\"\"Implements 'self[idx] = value'\n",
        "        Raises IndexError if idx is invalid.\"\"\"\n",
        "\n",
        "        raise NotImplementedError()\n",
        "        \n",
        "    def __len__(self):\n",
        "      \"\"\"Implements 'len(self)'\"\"\"\n",
        "      return self.curr_size\n",
        "    \n",
        "    # TODO: Implement this method - Required Time Complexity: O(1), except\n",
        "    # when you need to create a larger array to fit more elements    \n",
        "    def append(self, value):\n",
        "        \"\"\"Appends value to the end of this list.\"\"\"\n",
        "        raise NotImplementedError()\n",
        "    \n",
        "    # TODO: Implement this method - Required Time Complexity: O(1), except\n",
        "    # when you need to create a larger array to fit more elements    \n",
        "    def preprend(self, value):\n",
        "        \"\"\"Prepends value to the start of this list.\"\"\"\n",
        "        raise NotImplementedError()\n",
        "\n",
        "\n",
        "    # TODO: Implement this method - Required Time Complexity: O(n), except\n",
        "    # when idx == 0 or idx == len(self). In these cases, call append/prepend\n",
        "    def insert(self, idx, value):\n",
        "        \"\"\"Inserts value at position idx, shifting the original elements down \n",
        "        the list, as needed. Note that inserting a value at len(self) --- \n",
        "        equivalent to appending the value --- is permitted. \n",
        "        Raises IndexError if idx is invalid.\"\"\"\n",
        "   \n",
        "        raise NotImplementedError()\n",
        "    \n",
        "\n",
        "    # TODO: Implement this method - Required Time Complexity: O(n), except\n",
        "    # when 'value' is the first element in the list. In that case, \n",
        "    # the expected time complexity is O(1)\n",
        "    def remove(self, value):\n",
        "        \"\"\"Removes the first (closest to the front) instance of value from the\n",
        "        list. Raises a ValueError if value is not found in the list.\"\"\"\n",
        "   \n",
        "        raise NotImplementedError()\n",
        "    \n",
        "    # TODO: Implement this method - Required Time Complexity: O(n), except\n",
        "    # when idx == 0 or idx == len(self) - 1. In those cases, \n",
        "    # the expected time complexity is O(1)\n",
        "    def delete(self, idx):\n",
        "        \"\"\"Removes the element at index 'idx' from the\n",
        "        list. Raises a IndexError if index is invalid\"\"\"\n",
        "        \n",
        "        raise NotImplementedError()\n",
        "\n",
        "    # TODO: Implement this method - Required Time Complexity: O(n)\n",
        "    def __contains__(self, value):\n",
        "        \"\"\"Implements `val in self`. Returns true iff value is in the list.\"\"\"\n",
        "        \n",
        "        raise NotImplementedError()\n"
      ],
      "execution_count": null,
      "outputs": []
    },
    {
      "cell_type": "code",
      "metadata": {
        "id": "XpxcFu7BIIlo"
      },
      "source": [
        "# Use this code cell to test your ArrayList implementation"
      ],
      "execution_count": null,
      "outputs": []
    },
    {
      "cell_type": "markdown",
      "metadata": {
        "id": "OaP6F0_-oth_"
      },
      "source": [
        "## Problem 2 \n",
        "\n",
        "### [40 points] Circular Shift \n",
        "\n",
        "Given an integer array *nums* and an integer *k*, circularly shift the array to the right by *k* spaces. Elements at the end of the array will be shifted to the beginning of the array. \n",
        "\n",
        "    Example:\n",
        "    nums = [5,3,1,7,9] and k = 2 -> [7,9,5,3,1]\n",
        "\n",
        "Write the following solutions to the problem:\n",
        "\n",
        "Solution 1: Just solve the problem. No time or space complexity requirements.\n",
        "\n",
        "Solution 2: Solve the problem in linear time and constant space. Modify the array in place (can't create a new array and fill it in).\n",
        "  "
      ]
    },
    {
      "cell_type": "code",
      "metadata": {
        "id": "lu9cWMVUpTUE"
      },
      "source": [
        "# Solution 1\n",
        "\n",
        "# You are allowed to modify the code in the cell as you please, \n",
        "# just don't change the method signature.\n",
        "\n",
        "def circular_shift_1(nums, k):\n",
        "\n",
        "  return nums "
      ],
      "execution_count": null,
      "outputs": []
    },
    {
      "cell_type": "code",
      "metadata": {
        "id": "o1kQ9Iw6V2WM"
      },
      "source": [
        "# Solution 2\n",
        "\n",
        "# You are allowed to modify the code in the cell as you please, \n",
        "# just don't change the method signature.\n",
        "\n",
        "def circular_shift_2(nums, k):\n",
        "\n",
        "  return nums "
      ],
      "execution_count": null,
      "outputs": []
    },
    {
      "cell_type": "markdown",
      "metadata": {
        "id": "ULY67is8phGu"
      },
      "source": [
        "Test both solutions by calling them multiple times with different input values and comparing the output produced by your methods to the expected output. For each test, add a short comment explaining why you think that test is appropiate. Do not write an excesive amount of tests; just write the number of tests you think you need and justify your decisions. "
      ]
    },
    {
      "cell_type": "code",
      "metadata": {
        "id": "hHBURBBaprCi"
      },
      "source": [
        "# Your test cases go here\n",
        "\n"
      ],
      "execution_count": null,
      "outputs": []
    },
    {
      "cell_type": "markdown",
      "metadata": {
        "id": "wWZBXvtZq3YT"
      },
      "source": [
        "## Problem 3\n",
        "\n",
        "### [20 points] One Edit Away\n",
        "\n",
        "There are three types of \"edits\" that can be performed on strings: insert a character, remove a character, or replace a character. Given two strings s1 and s2, write a function to check if they are one edit (or zero edits) away.\n",
        "\n",
        "    Examples:\n",
        "    pale, ple -> true\n",
        "    pales, pale -> true\n",
        "    pale, bale -> true\n",
        "    pale, bae -> false\n",
        "\n",
        "  "
      ]
    },
    {
      "cell_type": "code",
      "metadata": {
        "id": "utXoyki7rLjR"
      },
      "source": [
        "# Solution\n",
        "\n",
        "# You are allowed to modify the code in the cell as you please, \n",
        "# just don't change the method signature.\n",
        "\n",
        "def one_edit_away(s1, s2):\n",
        "\n",
        "  return False"
      ],
      "execution_count": null,
      "outputs": []
    },
    {
      "cell_type": "markdown",
      "metadata": {
        "id": "o8vjb3virVNG"
      },
      "source": [
        "Test your solution by calling it multiple times with different input values and comparing the output produced by your method to the expected output. For each test, add a short comment explaining why you think that test is appropiate. Do not write an excesive amount of tests; just write the number of tests you think you need and justify your decisions. "
      ]
    },
    {
      "cell_type": "code",
      "metadata": {
        "id": "Y95SWdKPrWek"
      },
      "source": [
        "# Your test cases go here"
      ],
      "execution_count": null,
      "outputs": []
    },
    {
      "cell_type": "markdown",
      "metadata": {
        "id": "Awt7tZod9ZOy"
      },
      "source": [
        "## How to Submit This Lab\n",
        "\n",
        "1. File > Download .ipynb\n",
        "2. Go to Blackboard, find the lab submission page, and upload the .ipynb file you just downloaded."
      ]
    },
    {
      "cell_type": "markdown",
      "metadata": {
        "id": "ZxS_1odod-fo"
      },
      "source": [
        "## Grading Rubric\n",
        "\n",
        "|     Criteria    \t|     Proficient    \t|     Satisfactory    \t|     Unsatisfactory    \t|\n",
        "|-\t|-\t|-\t|-\t|\n",
        "|     Correctness    \t|     The code compiles, runs, and solves the problem.                \t|     The code compiles, runs, but does not solve the problem (partial implementation).    \t|     The code does not compile/run, or little progress was made.          \t|\n",
        "|     Space and Time </br> complexities    \t|     Appropriate for the problem.    \t|     Can be greatly improved.    \t|     Space and time complexity not analyzed     \t|\n",
        "|     Problem Decomposition    \t|     Operations are broken down into loosely coupled, highly cohesive   methods    \t|     Operations are broken down into methods, but they are not loosely   coupled/highly cohesive    \t|     Most of the logic is inside a couple of big methods          \t|\n",
        "|     Style    \t|     Variables and methods have meaningful/appropriate names     \t|     Only a subset of the variables and methods have   meaningful/appropriate names     \t|     Few or none of the variables and methods have meaningful/appropriate   names     \t|\n",
        "|     Robustness    \t|     Program handles erroneous or unexpected input gracefully    \t|     Program handles some erroneous or unexpected input gracefully    \t|     Program does not handle erroneous or unexpected input gracefully    \t|\n",
        "|     Documentation    \t|     Non-obvious code segments are well documented    \t|     Some non-obvious code segments are documented    \t|     Few or none non-obvious segments are documented    \t|\n",
        "|     Report     \t|     Covers all required material in a concise and clear way with proper   grammar and spelling.    \t|     Covers a subset of the required material in a concise and clear way   with proper grammar and spelling.    \t|     Does not cover enough material and/or the material is not presented   in a concise and clear way with proper grammar and spelling.    \t|"
      ]
    }
  ]
}