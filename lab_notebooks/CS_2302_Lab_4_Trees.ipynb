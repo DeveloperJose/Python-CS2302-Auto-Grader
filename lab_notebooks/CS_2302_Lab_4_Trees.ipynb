{
  "nbformat": 4,
  "nbformat_minor": 0,
  "metadata": {
    "colab": {
      "name": "CS 2302 - Lab 4 - Trees",
      "provenance": [],
      "collapsed_sections": []
    },
    "kernelspec": {
      "name": "python3",
      "display_name": "Python 3"
    }
  },
  "cells": [
    {
      "cell_type": "markdown",
      "metadata": {
        "id": "MKsRDH5ZUdfasdv"
      },
      "source": [
        "## CS 2302 - Lab 4 - Trees\n",
        "\n",
        "\n",
        "\n"
      ]
    },
    {
      "cell_type": "markdown",
      "metadata": {
        "id": "Lzc5KPs59OyY"
      },
      "source": [
        "## **Before you start**\n",
        "\n",
        "Make a copy of this Colab by clicking on File > Save a Copy in Drive\n",
        "\n",
        "Name:  \n",
        "\n",
        "Student ID:"
      ]
    },
    {
      "cell_type": "markdown",
      "metadata": {
        "id": "overview"
      },
      "source": [
        "## Overview\n",
        "\n",
        "In this lab, you will solve 4 tree problems. The first problem asks you to implement a self-balancing binary search tree. The last three problems are similar to the ones tech companies use during coding interviews. You will be required to used your tree implementation to test your solutions.\n",
        "\n",
        "\n"
      ]
    },
    {
      "cell_type": "markdown",
      "metadata": {
        "id": "6gKL1mrkyLux"
      },
      "source": [
        "### Grading\n",
        "As stated in the syllabus, your lab consists of two parts: the source code  and the report. This colab counts as your source code submission only. However, for your report submission, you  are more than welcome to extend your colab to include what is required for the report. Alternatively, you can use any other text editor to write your lab report (Google Docs, Word, etc.). I personally recommend to stick to Google Colab as you can write code to draw the required plots, which makes the whole process simpler. \n",
        "\n",
        "Each subsection in this colab is marked with point values, totaling 100 points.\n"
      ]
    },
    {
      "cell_type": "markdown",
      "metadata": {
        "id": "cBO-Xrldpe62"
      },
      "source": [
        "## Problem 1 \n",
        "\n",
        "### [10 points] Self-balancing binary search tree\n",
        "\n",
        "Implement a self-balancing binary search tree. You are free to select any type of tree from this list:\n",
        "- [AVL](https://en.wikipedia.org/wiki/AVL_tree)\n",
        "- [Red-Black](https://en.wikipedia.org/wiki/Red%E2%80%93black_tree)\n",
        "- [AA](https://en.wikipedia.org/wiki/AA_tree)\n",
        "- [Scapegoat](https://en.wikipedia.org/wiki/Scapegoat_tree)\n",
        "- [Splay](https://en.wikipedia.org/wiki/Splay_tree)\n",
        "- [Treap](https://en.wikipedia.org/wiki/Treap)\n",
        "\n",
        "You are free to look online at existing implementations to write your own, but if you do so, you MUST cite the source. "
      ]
    },
    {
      "cell_type": "code",
      "metadata": {
        "id": "RCJACl9m6KJw"
      },
      "source": [
        "# Your code goes here"
      ],
      "execution_count": null,
      "outputs": []
    },
    {
      "cell_type": "markdown",
      "metadata": {
        "id": "OaP6F0_-oth_"
      },
      "source": [
        "## Problem 2 \n",
        "\n",
        "### [30 points] Range Sum\n",
        "\n",
        "Given the root node of a binary search tree (duplicates allowed), return the sum of values of all nodes with value between *min_val* and *max_val* (inclusive). \n",
        "```\t\n",
        "Examples:\n",
        "\t\n",
        "       7 \n",
        "     /    \\\n",
        "    3      10      \n",
        "  /   \\   /   \\\n",
        "-1    5   9    12\n",
        "\n",
        "min_val = 2, max_val = 10  →  3 + 5 + 7 + 9 + 10 = 34\n",
        "min_val = 3, max_val = 8  →  3 + 5 + 7 = 15\n",
        "min_val = 10, max_val = 20  →  10 + 12 = 22\n",
        "min_val = 20, max_val = 30  →  0\n",
        "```"
      ]
    },
    {
      "cell_type": "code",
      "metadata": {
        "id": "lu9cWMVUpTUE"
      },
      "source": [
        "# Solution \n",
        "\n",
        "# You are allowed to modify the code in the cell as you please, \n",
        "# just don't change the method signature.\n",
        "\n",
        "def range_sum(root, min_val, max_val):\n",
        "\n",
        "  return 0"
      ],
      "execution_count": null,
      "outputs": []
    },
    {
      "cell_type": "markdown",
      "metadata": {
        "id": "ULY67is8phGu"
      },
      "source": [
        "Test your solution by calling it multiple times with different input values and comparing the output produced by your method to the expected output. For each test, add a short comment explaining why you think that test is appropiate. Do not write an excesive amount of tests; just write the number of tests you think you need and justify your decisions. To create your input trees, you can 1) use the Tree implementation you wrote in Problem 1, or 2) *manually* build them by directly instantiating nodes and setting their left and right attributes to connect them."
      ]
    },
    {
      "cell_type": "code",
      "metadata": {
        "id": "hHBURBBaprCi"
      },
      "source": [
        "# Your test cases go here\n",
        "\n"
      ],
      "execution_count": null,
      "outputs": []
    },
    {
      "cell_type": "markdown",
      "metadata": {
        "id": "wWZBXvtZq3YT"
      },
      "source": [
        "## Problem 3\n",
        "\n",
        "### [30 points] Univalued Tree\n",
        "\n",
        "A binary tree is univalued if and only if every node in the tree contains the same value. Write a function that receives the root of a binary tree as input and determines if the given tree is univalued. Feel free to write a helper (recursive) method.\n",
        "\n",
        "```\n",
        "Examples:\n",
        "\t\t\n",
        "       7 \n",
        "     /    \\\n",
        "   3        10        →  False\n",
        " /   \\     /   \\\n",
        "-1    5   9    12\n",
        "\n",
        "       5 \n",
        "     /   \\\n",
        "    5     5      \t →  True\n",
        "\n",
        "      7 \n",
        "    /    \\\n",
        "  7       7      \t →  False\n",
        " /  \\    / \n",
        "7   7   8    \n",
        "\n",
        "       3 \n",
        "     /    \\\n",
        "    3      3          →  true\n",
        "         /   \\\n",
        "         3    3\n",
        "\n",
        "```\n"
      ]
    },
    {
      "cell_type": "code",
      "metadata": {
        "id": "utXoyki7rLjR"
      },
      "source": [
        "# Solution\n",
        "\n",
        "# You are allowed to modify the code in the cell as you please, \n",
        "# just don't change the method signature.\n",
        "\n",
        "def is_univalued(root):\n",
        "\n",
        "  return False"
      ],
      "execution_count": null,
      "outputs": []
    },
    {
      "cell_type": "markdown",
      "metadata": {
        "id": "o8vjb3virVNG"
      },
      "source": [
        "Test your solution by calling it multiple times with different input values and comparing the output produced by your method to the expected output. For each test, add a short comment explaining why you think that test is appropiate. Do not write an excesive amount of tests; just write the number of tests you think you need and justify your decisions. To create your input trees, you can *manually* build them by directly instantiating nodes and setting their left and right attributes to connect them."
      ]
    },
    {
      "cell_type": "code",
      "metadata": {
        "id": "Y95SWdKPrWek"
      },
      "source": [
        "# Your test cases go here"
      ],
      "execution_count": null,
      "outputs": []
    },
    {
      "cell_type": "markdown",
      "metadata": {
        "id": "3fvX4LUHTREQ"
      },
      "source": [
        "## Problem 4\n",
        "\n",
        "### [30 points] Average of Levels\n",
        "\n",
        "Given the root of a binary tree, return the average value of the nodes at each level.  Feel free to write a helper (recursive) method.\n",
        "\n",
        "```\n",
        "Example:\n",
        "Input:\n",
        "    3\n",
        "   /  \\\n",
        "  9  20\n",
        "    /  \\\n",
        "   15   7\n",
        "Output: [3, 14.5, 11]\n",
        "```"
      ]
    },
    {
      "cell_type": "code",
      "metadata": {
        "id": "6AJQPbcOTQRP"
      },
      "source": [
        "# Solution \n",
        "\n",
        "# You are allowed to modify the code in the cell as you please, \n",
        "# just don't change the method signature.\n",
        "\n",
        "def average_of_levels(root):\n",
        "\n",
        "  return []"
      ],
      "execution_count": null,
      "outputs": []
    },
    {
      "cell_type": "markdown",
      "metadata": {
        "id": "HtDmZt4WV8Ch"
      },
      "source": [
        "Test your solution by calling it multiple times with different input values and comparing the output produced by your method to the expected output. For each test, add a short comment explaining why you think that test is appropiate. Do not write an excesive amount of tests; just write the number of tests you think you need and justify your decisions. To create your input trees, you can 1) use the Tree implementation you wrote in Problem 1, or 2) *manually* build them by directly instantiating nodes and setting their left and right attributes to connect them."
      ]
    },
    {
      "cell_type": "code",
      "metadata": {
        "id": "EeQMnAaOV-b9"
      },
      "source": [
        "# Your test cases go here"
      ],
      "execution_count": null,
      "outputs": []
    },
    {
      "cell_type": "markdown",
      "metadata": {
        "id": "_njBEETJ9bmT"
      },
      "source": [
        "## How to Submit This Lab\n",
        "\n",
        "1. File > Download .ipynb\n",
        "2. Go to Blackboard, find the lab submission page, and upload the .ipynb file you just downloaded."
      ]
    },
    {
      "cell_type": "markdown",
      "metadata": {
        "id": "ZxS_1odod-fo"
      },
      "source": [
        "## Grading Rubric\n",
        "\n",
        "|     Criteria    \t|     Proficient    \t|     Satisfactory    \t|     Unsatisfactory    \t|\n",
        "|-\t|-\t|-\t|-\t|\n",
        "|     Correctness    \t|     The code compiles, runs, and solves the problem.                \t|     The code compiles, runs, but does not solve the problem (partial implementation).    \t|     The code does not compile/run, or little progress was made.          \t|\n",
        "|     Space and Time </br> complexities    \t|     Appropriate for the problem.    \t|     Can be greatly improved.    \t|     Space and time complexity not analyzed     \t|\n",
        "|     Problem Decomposition    \t|     Operations are broken down into loosely coupled, highly cohesive   methods    \t|     Operations are broken down into methods, but they are not loosely   coupled/highly cohesive    \t|     Most of the logic is inside a couple of big methods          \t|\n",
        "|     Style    \t|     Variables and methods have meaningful/appropriate names     \t|     Only a subset of the variables and methods have   meaningful/appropriate names     \t|     Few or none of the variables and methods have meaningful/appropriate   names     \t|\n",
        "|     Robustness    \t|     Program handles erroneous or unexpected input gracefully    \t|     Program handles some erroneous or unexpected input gracefully    \t|     Program does not handle erroneous or unexpected input gracefully    \t|\n",
        "|     Documentation    \t|     Non-obvious code segments are well documented    \t|     Some non-obvious code segments are documented    \t|     Few or none non-obvious segments are documented    \t|\n",
        "|     Report     \t|     Covers all required material in a concise and clear way with proper   grammar and spelling.    \t|     Covers a subset of the required material in a concise and clear way   with proper grammar and spelling.    \t|     Does not cover enough material and/or the material is not presented   in a concise and clear way with proper grammar and spelling.    \t|"
      ]
    }
  ]
}