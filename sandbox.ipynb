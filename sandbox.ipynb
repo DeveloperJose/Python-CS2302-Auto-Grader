{
 "cells": [
  {
   "cell_type": "code",
   "execution_count": 39,
   "metadata": {},
   "outputs": [
    {
     "name": "stdout",
     "output_type": "stream",
     "text": [
      "4 {'L': ('A', 'B'), 'k': (1, 2)}\n",
      "\n",
      "{'L': 'A', 'k': 1}\n",
      "{'L': 'A', 'k': 2}\n",
      "{'L': 'B', 'k': 1}\n",
      "{'L': 'B', 'k': 2}\n"
     ]
    },
    {
     "name": "stderr",
     "output_type": "stream",
     "text": [
      "/home/jperez/miniconda3/envs/pytorch/lib/python3.7/site-packages/ipykernel_launcher.py:19: DeprecationWarning: inspect.getargspec() is deprecated since Python 3.0, use inspect.signature() or inspect.getfullargspec()\n"
     ]
    }
   ],
   "source": [
    "import inspect\n",
    "import functools\n",
    "import itertools\n",
    "def set_test_case(**kwargs):\n",
    "    def decorator(func):\n",
    "        max_trials = 1\n",
    "        for k_name, k_data in kwargs.items():\n",
    "            assert isinstance(k_data, tuple), f'[Debug] Error while annotating function \"{func.__name__}\" [\"{k_name}\" has to be a tuple]'\n",
    "            max_trials *= len(k_data)\n",
    "\n",
    "        assert max_trials > 1, f'[Debug] Error while annotating function \"{func.__name__}\" [Tuples must be populated]'\n",
    "        \n",
    "        @functools.wraps(func)\n",
    "        def wrapper(*args, **kwargs):\n",
    "            return func(*args, **kwargs)\n",
    "\n",
    "        wrapper.max_trials = max_trials\n",
    "        wrapper.set_kwargs = kwargs\n",
    "        wrapper.param_names = inspect.getargspec(func)[0]\n",
    "        return wrapper\n",
    "    return decorator\n",
    "\n",
    "L1 = [6, 4, 8, 9, 1, 3, 7, 5, 2, 0]\n",
    "L2 = [40, 60,10,20,30,80,50]\n",
    "L3 = [3,1,2]\n",
    "L4 = [18, 0, 12, 9, 6, 15, 3]\n",
    "L5 = []\n",
    "L6 = [2302]\n",
    "Ls = [2,5,7,1,2,5,7,8,9,0]\n",
    "\n",
    "@set_test_case(\n",
    "    L = ('A', 'B'),\n",
    "    k = (1, 2,)\n",
    ")\n",
    "def f(L, k):\n",
    "    return k in L\n",
    "\n",
    "\n",
    "print(f.max_trials, f.set_kwargs)\n",
    "print()\n",
    "\n",
    "# iters = [f.set_kwargs['L'], f.set_kwargs['k']]\n",
    "L = list(itertools.product(*f.set_kwargs.values()))\n",
    "\n",
    "for parameter_tuple in L:\n",
    "    D = {}\n",
    "    for (param_value, param_name) in zip(parameter_tuple, f.param_names):\n",
    "        D[param_name] = param_value\n",
    "\n",
    "    print(D)\n",
    "\n",
    "# print(type(f.set_kwargs))\n",
    "\n",
    "\n",
    "# def part(x, b):\n",
    "#     return False\n",
    "\n",
    "# part2 = part()"
   ]
  }
 ],
 "metadata": {
  "kernelspec": {
   "display_name": "pytorch",
   "language": "python",
   "name": "python3"
  },
  "language_info": {
   "codemirror_mode": {
    "name": "ipython",
    "version": 3
   },
   "file_extension": ".py",
   "mimetype": "text/x-python",
   "name": "python",
   "nbconvert_exporter": "python",
   "pygments_lexer": "ipython3",
   "version": "3.7.11 (default, Jul 27 2021, 14:32:16) \n[GCC 7.5.0]"
  },
  "orig_nbformat": 4,
  "vscode": {
   "interpreter": {
    "hash": "2c224a93c8766fe4ea08c7f17fdb2ade40366f352d348d14df97b11df4144bfc"
   }
  }
 },
 "nbformat": 4,
 "nbformat_minor": 2
}
